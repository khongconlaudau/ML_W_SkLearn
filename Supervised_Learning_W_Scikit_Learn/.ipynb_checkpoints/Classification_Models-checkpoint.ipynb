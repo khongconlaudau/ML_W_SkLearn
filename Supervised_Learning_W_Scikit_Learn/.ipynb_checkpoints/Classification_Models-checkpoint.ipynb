{
 "cells": [
  {
   "cell_type": "markdown",
   "id": "c2a57358-96a0-407b-837b-f89ead60783a",
   "metadata": {},
   "source": [
    "## Comprehensive Guide to Classification Models in Scikit-Learn\n",
    "- Classification is a supervised learning technique where the goal is to predict the categorical class labels of new instances based on past observations. It involves training a model on a labeled dataset, where the target variable is categorical. Common applications include spam detection, image recognition, and medical diagnosis."
   ]
  },
  {
   "cell_type": "markdown",
   "id": "af03c44f-3b6a-46ea-8b4d-3ce8dfd884f4",
   "metadata": {},
   "source": [
    "## Scikit-Learn Classification Models"
   ]
  },
  {
   "cell_type": "markdown",
   "id": "64a8f985-6726-478e-9417-4cc4c59b2fa9",
   "metadata": {},
   "source": [
    "### 1. Logistic Regression\n",
    "- Logistic Regression is a linear model used for binary classification problems. It models the probability that a given input belongs to a particular class.\n",
    "\n",
    "- Advantages:\n",
    "\n",
    "    - Simplicity and Interpretability: Logistic regression is easy to implement and interpret. It provides a clear probabilistic framework for binary classification problems.\n",
    "    - Efficiency: It is computationally efficient and works well with large datasets.\n",
    "    - No Need for Feature Scaling: Logistic regression does not require feature scaling, making it simpler to use.\n",
    "- Disadvantages:\n",
    "\n",
    "    - Linear Decision Boundary: It assumes a linear relationship between the independent variables and the log-odds of the dependent variable, which may not always be true.\n",
    "    - Overfitting with High-Dimensional Data: Logistic regression can overfit when the number of observations is less than the number of features.\n",
    "    - Not Suitable for Non-Linear Problems: It cannot handle non-linear relationships unless features are transformed"
   ]
  },
  {
   "cell_type": "code",
   "execution_count": 20,
   "id": "88e26882-da6e-4440-af39-eb92a8944eca",
   "metadata": {},
   "outputs": [
    {
     "name": "stdout",
     "output_type": "stream",
     "text": [
      "Accuracy: 1.0\n",
      "              precision    recall  f1-score   support\n",
      "\n",
      "           0       1.00      1.00      1.00        20\n",
      "           1       1.00      1.00      1.00        24\n",
      "           2       1.00      1.00      1.00        15\n",
      "\n",
      "    accuracy                           1.00        59\n",
      "   macro avg       1.00      1.00      1.00        59\n",
      "weighted avg       1.00      1.00      1.00        59\n",
      "\n",
      "True label: class_0, Predict: class_0\n",
      "True label: class_0, Predict: class_0\n",
      "True label: class_2, Predict: class_2\n",
      "True label: class_0, Predict: class_0\n",
      "True label: class_1, Predict: class_1\n",
      "True label: class_0, Predict: class_0\n",
      "True label: class_1, Predict: class_1\n",
      "True label: class_2, Predict: class_2\n",
      "True label: class_1, Predict: class_1\n",
      "True label: class_2, Predict: class_2\n",
      "True label: class_0, Predict: class_0\n"
     ]
    }
   ],
   "source": [
    "from sklearn.linear_model import LogisticRegression\n",
    "from sklearn.model_selection import train_test_split\n",
    "from sklearn.datasets import load_wine\n",
    "from sklearn.metrics import accuracy_score, classification_report \n",
    "\n",
    "wine = load_wine()\n",
    "X = wine.data\n",
    "y = wine.target\n",
    "class_names = wine.target_names \n",
    "\n",
    "X_train, X_test, y_train, y_test = train_test_split(X, y, test_size=0.33, random_state=42)\n",
    "model = LogisticRegression(max_iter=10000)\n",
    "model.fit(X_train, y_train)\n",
    "\n",
    "y_pred = model.predict(X_test)\n",
    "print(\"Accuracy:\", accuracy_score(y_test, y_pred))\n",
    "print(classification_report(y_test, y_pred))\n",
    "for i in range(len(y_pred)):\n",
    "    print(f\"True label: {class_names[y_test[i]]}, Predict: {class_names[y_pred[i]]}\")\n",
    "    if i == 10:\n",
    "        break"
   ]
  },
  {
   "cell_type": "markdown",
   "id": "9a9525da-ca57-4f6d-8d12-81aa03710204",
   "metadata": {},
   "source": [
    "### 2. K-Nearest Neighbors (KNN)\n",
    "- In the k-Nearest Neighbours algorithm k is just a number that tells the algorithm how many nearby points or neighbors to look at when it makes a decision.\n",
    "\n",
    "- Example: Imagine you're deciding which fruit it is based on its shape and size. You compare it to fruits you already know.\n",
    "\n",
    "    - If k = 3, the algorithm looks at the 3 closest fruits to the new one.\n",
    "    - If 2 of those 3 fruits are apples and 1 is a banana, the algorithm says the new fruit is an apple because most of its neighbors are apples.\n",
    "\n",
    "- How to choose the value of k for KNN Algorithm?\n",
    "    - The value of k in KNN decides how many neighbors the algorithm looks at when making a prediction.\n",
    "    - Choosing the right k is important for good results.\n",
    "    - If the data has lots of noise or outliers, using a larger k can make the predictions more stable.\n",
    "    - But if k is too large the model may become too simple and miss important patterns and this is called underfitting.\n",
    "    - So k should be picked carefully based on the data.\n",
    "\n",
    "- Statistical Methods for Selecting k\n",
    "    - Cross-Validation: Cross-Validation is a good way to find the best value of k is by using k-fold cross-validation. This means dividing the dataset into k parts. The model is trained on some of these parts and tested on the remaining ones. This process is repeated for each part. The k value that gives the highest average accuracy during these tests is usually the best one to use.\n",
    "    - Elbow Method: In Elbow Method we draw a graph showing the error rate or accuracy for different k values. As k increases the error usually drops at first. But after a certain point error stops decreasing quickly. The point where the curve changes direction and looks like an \"elbow\" is usually the best choice for k.\n",
    "Odd Values for k: It’s a good idea to use an odd number for k especially in classification problems. This helps avoid ties when deciding which class is the most common among the neighbors.\n",
    "\n",
    "- Advantages:\n",
    "\n",
    "    - No Training Period: KNN is a lazy learner, meaning it does not require a training phase, which makes it fast to implement.\n",
    "    - Flexibility: It can handle multi-class classification problems and is easy to understand and implement.\n",
    "    - Adaptability: New data can be added seamlessly without retraining the model.\n",
    "- Disadvantages:\n",
    "\n",
    "    - Computationally Intensive: KNN can be slow for large datasets as it requires computing the distance between the new point and all existing points.\n",
    "    - Sensitive to Noise and Outliers: KNN is sensitive to noisy data and outliers, which can affect its performance.\n",
    "    - Feature Scaling Required: It requires feature scaling to ensure that all features contribute equally to the distance calculations"
   ]
  },
  {
   "cell_type": "code",
   "execution_count": 28,
   "id": "1e5d6c81-258f-48a5-b4e6-bb9f39106f4f",
   "metadata": {},
   "outputs": [
    {
     "name": "stdout",
     "output_type": "stream",
     "text": [
      "Accuracy: 0.6949152542372882\n",
      "              precision    recall  f1-score   support\n",
      "\n",
      "           0       0.85      0.85      0.85        20\n",
      "           1       0.70      0.67      0.68        24\n",
      "           2       0.50      0.53      0.52        15\n",
      "\n",
      "    accuracy                           0.69        59\n",
      "   macro avg       0.68      0.68      0.68        59\n",
      "weighted avg       0.70      0.69      0.70        59\n",
      "\n"
     ]
    }
   ],
   "source": [
    "from sklearn.neighbors import KNeighborsClassifier\n",
    "\n",
    "knn = KNeighborsClassifier(n_neighbors=3)\n",
    "knn.fit(X_train, y_train)\n",
    "y_pred_knn = knn.predict(X_test)\n",
    "print(\"Accuracy:\", accuracy_score(y_test, y_pred_knn))\n",
    "print(classification_report(y_test, y_pred_knn))"
   ]
  },
  {
   "cell_type": "markdown",
   "id": "d6de8ed1-c803-41f7-b0f8-22edd8e73bf9",
   "metadata": {},
   "source": [
    "### 4. Decision Trees\n",
    "- A Decision Tree helps us make decisions by showing different options and how they are related. It has a tree-like structure that starts with one main question called the root node which represents the entire dataset. From there, the tree branches out into different possibilities based on features in the data.\n",
    "    - Root Node: Starting point representing the whole dataset.\n",
    "    - Branches: Lines connecting nodes showing the flow from one decision to another.\n",
    "    - Internal Nodes: Points where decisions are made based on data features.\n",
    "    - Leaf Nodes: End points of the tree where the final decision or prediction is made.\n",
    "\n",
    "- Splitting Criteria in Decision Trees\n",
    "    - In a Decision Tree, the process of splitting data at each node is important. The splitting criteria finds the best feature to split the data on. Common splitting criteria include Gini Impurity and Entropy.\n",
    "    - Gini Impurity: This criterion measures how \"impure\" a node is. The lower the Gini Impurity the better the feature splits the data into distinct categories.\n",
    "    - Entropy: This measures the amount of uncertainty or disorder in the data. The tree tries to reduce the entropy by splitting the data on features that provide the most information about the target variable.\n",
    "\n",
    "- Advantages:\n",
    "    - Interpretability: Decision trees are easy to understand and interpret, making them useful for explaining model predictions to non-technical stakeholders.\n",
    "    - Handling Different Data Types: They can handle both numerical and categorical data without requiring feature scaling or encoding.\n",
    "    - Non-Linear Relationships: Decision trees can capture non-linear relationships between features and the target variable.\n",
    "- Disadvantages:\n",
    "    - Prone to Overfitting: Decision trees can easily overfit the training data, especially if they are deep and complex.\n",
    "    - High Variance: Small changes in the data can result in significantly different trees, making them unstable.\n",
    "    - Bias Toward Dominant Classes: They can be biased toward features with many levels or dominant classes in imbalanced datasets"
   ]
  },
  {
   "cell_type": "code",
   "execution_count": 29,
   "id": "492351ad-5cec-434f-b714-5484c582a358",
   "metadata": {},
   "outputs": [
    {
     "name": "stdout",
     "output_type": "stream",
     "text": [
      "Accuracy: 0.9661016949152542\n",
      "              precision    recall  f1-score   support\n",
      "\n",
      "           0       0.95      0.95      0.95        20\n",
      "           1       0.96      1.00      0.98        24\n",
      "           2       1.00      0.93      0.97        15\n",
      "\n",
      "    accuracy                           0.97        59\n",
      "   macro avg       0.97      0.96      0.97        59\n",
      "weighted avg       0.97      0.97      0.97        59\n",
      "\n"
     ]
    }
   ],
   "source": [
    "from sklearn.tree import DecisionTreeClassifier\n",
    "\n",
    "tree = DecisionTreeClassifier(max_depth=5)\n",
    "tree.fit(X_train, y_train)\n",
    "y_pred_tree = tree.predict(X_test)\n",
    "\n",
    "print(\"Accuracy:\", accuracy_score(y_test, y_pred_tree))\n",
    "print(classification_report(y_test, y_pred_tree))"
   ]
  },
  {
   "cell_type": "markdown",
   "id": "06e2a6ab-9aa2-4952-9e2a-bccc0d00952c",
   "metadata": {},
   "source": [
    "### 5. Random Forest\n",
    "- Random Forest is an ensemble method that combines multiple decision trees to improve the model's accuracy and robustness.\n",
    "- Advantages:\n",
    "    - High Accuracy: Random forests generally provide high accuracy by averaging the predictions of multiple decision trees, reducing the variance.\n",
    "    - Robustness to Noise: They are resilient to noisy data and outliers, making them suitable for real-world datasets.\n",
    "    - Feature Importance: Random forests can provide insights into feature importance, aiding in feature selection and understanding the dataset.\n",
    "- Disadvantages:\n",
    "    - Computationally Intensive: Building multiple decision trees can be computationally expensive and require more resources.\n",
    "    - Interpretability: The ensemble nature makes it challenging to interpret the reasoning behind individual predictions compared to a single decision tree.\n",
    "    - Bias in Imbalanced Datasets: Random forests may be biased toward the majority class in imbalanced datasets, affecting the performance for minority classes"
   ]
  },
  {
   "cell_type": "code",
   "execution_count": 30,
   "id": "570b86bf-eac7-4767-b9e5-443bc4f6cf7d",
   "metadata": {},
   "outputs": [
    {
     "name": "stdout",
     "output_type": "stream",
     "text": [
      "Accuracy: 1.0\n",
      "              precision    recall  f1-score   support\n",
      "\n",
      "           0       1.00      1.00      1.00        20\n",
      "           1       1.00      1.00      1.00        24\n",
      "           2       1.00      1.00      1.00        15\n",
      "\n",
      "    accuracy                           1.00        59\n",
      "   macro avg       1.00      1.00      1.00        59\n",
      "weighted avg       1.00      1.00      1.00        59\n",
      "\n"
     ]
    }
   ],
   "source": [
    "from sklearn.ensemble import RandomForestClassifier\n",
    "\n",
    "forest = RandomForestClassifier(n_estimators=100, max_depth=5, random_state=42)\n",
    "forest.fit(X_train, y_train)\n",
    "\n",
    "y_pred_forest = forest.predict(X_test)\n",
    "print(\"Accuracy:\", accuracy_score(y_test, y_pred_forest))\n",
    "print(classification_report(y_test, y_pred_forest))"
   ]
  },
  {
   "cell_type": "markdown",
   "id": "31b4e12c-0170-4152-9a02-a027039b6c1c",
   "metadata": {},
   "source": [
    "### 6. Naive Bayes\n",
    "- Naive Bayes is a classification algorithm that uses probability to predict which category a data point belongs to, assuming that all features are unrelated\n",
    "- The fundamental Naive Bayes assumption is that each feature makes an:\n",
    "\n",
    "- Feature independence: This means that when we are trying to classify something, we assume that each feature (or piece of information) in the data does not affect any other feature.\n",
    "- Continuous features are normally distributed: If a feature is continuous, then it is assumed to be normally distributed within each class.\n",
    "- Discrete features have multinomial distributions: If a feature is discrete, then it is assumed to have a multinomial distribution within each class.\n",
    "Features are equally important: All features are assumed to contribute equally to the prediction of the class label.\n",
    "- No missing data: The data should not contain any missing values."
   ]
  },
  {
   "cell_type": "code",
   "execution_count": 32,
   "id": "18b2d27e-46e1-469f-85b2-216c5d12ecc2",
   "metadata": {},
   "outputs": [
    {
     "name": "stdout",
     "output_type": "stream",
     "text": [
      "Accuracy: 1.0\n",
      "              precision    recall  f1-score   support\n",
      "\n",
      "           0       1.00      1.00      1.00        20\n",
      "           1       1.00      1.00      1.00        24\n",
      "           2       1.00      1.00      1.00        15\n",
      "\n",
      "    accuracy                           1.00        59\n",
      "   macro avg       1.00      1.00      1.00        59\n",
      "weighted avg       1.00      1.00      1.00        59\n",
      "\n"
     ]
    }
   ],
   "source": [
    "from sklearn.naive_bayes import GaussianNB\n",
    "\n",
    "nb = GaussianNB()\n",
    "nb.fit(X_train, y_train)\n",
    "y_pred_nb = nb.predict(X_test)\n",
    "\n",
    "print(\"Accuracy:\", accuracy_score(y_test, y_pred_nb))\n",
    "print(classification_report(y_test, y_pred_nb))"
   ]
  },
  {
   "cell_type": "markdown",
   "id": "2d81d0ee-a88a-48c9-8e2d-e2905e9e8f03",
   "metadata": {},
   "source": [
    "### 7. Gradient Boosting\n",
    "- Gradient Boosting is a ensemble learning method used for classification and regression tasks. It is a boosting algorithm which combine multiple weak learner to create a strong predictive model. It works by sequentially training models where each new model tries to correct the errors made by its predecessor.\n",
    "- Shrinkage and Model Complexity\n",
    "    - A key feature of Gradient Boosting is shrinkage which scales the contribution of each new model using learning rate (denoted as \n",
    "η\n",
    "η).\n",
    "\n",
    "    - Smaller learning rates: mean the contribution of each tree is smaller which reduces the risk of overfitting but requires more trees to achieve the same performance.\n",
    "    - Larger learning rates: mean each tree has a more significant impact but this can lead to overfitting.\n",
    " \n",
    "- Advantages:\n",
    "    - High Predictive Accuracy: Gradient Boosting often provides predictive accuracy that is difficult to surpass.\n",
    "    - Flexibility: It can optimize different loss functions and offers several hyperparameter tuning options, making it highly flexible.\n",
    "    - No Data Pre-Processing Required: It often works well with both categorical and numerical values without requiring extensive data pre-processing.\n",
    "    - Handles Missing Data: Gradient Boosting can handle missing data without the need for imputation.\n",
    "- Disadvantages:\n",
    "    - Overfitting: Gradient Boosting models can overfit the training data, especially if not properly regularized. This can be mitigated using techniques like penalized learning, tree constraints, randomized sampling, and shrinkage.\n",
    "    - Computationally Expensive: The algorithm is computationally intensive and often requires many trees (sometimes more than 1000), which can be time and memory exhaustive.\n",
    "    - Complex Hyperparameter Tuning: The high flexibility results in many parameters that interact and influence the model's behavior, requiring extensive grid search during tuning."
   ]
  },
  {
   "cell_type": "code",
   "execution_count": 33,
   "id": "b5fc8140-930c-4b40-be22-8225a52f1be2",
   "metadata": {},
   "outputs": [
    {
     "name": "stdout",
     "output_type": "stream",
     "text": [
      "Accuracy: 0.9830508474576272\n",
      "              precision    recall  f1-score   support\n",
      "\n",
      "           0       0.95      1.00      0.98        20\n",
      "           1       1.00      0.96      0.98        24\n",
      "           2       1.00      1.00      1.00        15\n",
      "\n",
      "    accuracy                           0.98        59\n",
      "   macro avg       0.98      0.99      0.98        59\n",
      "weighted avg       0.98      0.98      0.98        59\n",
      "\n"
     ]
    }
   ],
   "source": [
    "from sklearn.ensemble import GradientBoostingClassifier\n",
    "\n",
    "gb = GradientBoostingClassifier(n_estimators=100, max_depth=1, learning_rate=1.0, random_state=42)\n",
    "gb.fit(X_train, y_train)\n",
    "y_pred_gb = gb.predict(X_test)\n",
    "print(\"Accuracy:\", accuracy_score(y_test, y_pred_gb))\n",
    "print(classification_report(y_test, y_pred_gb))"
   ]
  },
  {
   "cell_type": "code",
   "execution_count": 34,
   "id": "8f9cd0d7-865d-4e68-a03a-012770d0f718",
   "metadata": {},
   "outputs": [
    {
     "name": "stdout",
     "output_type": "stream",
     "text": [
      "Confusion Matrix:\n",
      " [[20  0  0]\n",
      " [ 0 24  0]\n",
      " [ 0  0 15]]\n",
      "Precision: 1.0\n",
      "Recall: 1.0\n",
      "F1-Score: 1.0\n"
     ]
    }
   ],
   "source": [
    "from sklearn.metrics import confusion_matrix, precision_score, recall_score, f1_score\n",
    "cm = confusion_matrix(y_test, y_pred)\n",
    "print(\"Confusion Matrix:\\n\", cm)\n",
    "\n",
    "precision = precision_score(y_test, y_pred, average=\"weighted\")\n",
    "print(\"Precision:\", precision)\n",
    "\n",
    "recall = recall_score(y_test, y_pred, average=\"weighted\")\n",
    "print(\"Recall:\", recall)\n",
    "\n",
    "f1 = f1_score(y_test, y_pred, average='weighted')\n",
    "print(\"F1-Score:\", f1)\n",
    "\n"
   ]
  },
  {
   "cell_type": "code",
   "execution_count": 41,
   "id": "1168a3fc-ae07-4847-95dd-75918c9df0b3",
   "metadata": {},
   "outputs": [
    {
     "data": {
      "image/png": "[encoded data removed]",
      "text/plain": [
       "<Figure size 640x480 with 2 Axes>"
      ]
     },
     "metadata": {},
     "output_type": "display_data"
    }
   ],
   "source": [
    "from sklearn.metrics import ConfusionMatrixDisplay\n",
    "import matplotlib.pyplot as plt \n",
    "disp = ConfusionMatrixDisplay(confusion_matrix=cm, display_labels=wine.target_names)\n",
    "disp.plot(cmap=plt.cm.Blues)\n",
    "plt.title(\"Confusion matrix\")\n",
    "plt.show()\n"
   ]
  },
  {
   "cell_type": "code",
   "execution_count": null,
   "id": "8e471320-6717-42b0-8a09-52c51a70a1ae",
   "metadata": {},
   "outputs": [],
   "source": []
  }
 ],
 "metadata": {
  "kernelspec": {
   "display_name": "Python 3 (ipykernel)",
   "language": "python",
   "name": "python3"
  },
  "language_info": {
   "codemirror_mode": {
    "name": "ipython",
    "version": 3
   },
   "file_extension": ".py",
   "mimetype": "text/x-python",
   "name": "python",
   "nbconvert_exporter": "python",
   "pygments_lexer": "ipython3",
   "version": "3.13.3"
  }
 },
 "nbformat": 4,
 "nbformat_minor": 5
}
