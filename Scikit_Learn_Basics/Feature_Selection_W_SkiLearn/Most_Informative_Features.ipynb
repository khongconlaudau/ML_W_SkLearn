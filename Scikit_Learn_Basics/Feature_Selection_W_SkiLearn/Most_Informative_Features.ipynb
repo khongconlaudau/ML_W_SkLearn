{
 "cells": [
  {
   "cell_type": "markdown",
   "id": "c9cc7676-da2a-452a-8632-53d9d280df4d",
   "metadata": {},
   "source": [
    "# How to Identify the Most Informative Features for scikit-learn Classifiers\n",
    "\n",
    "- Feature selection is an important step in the machine learning pipeline. By identifying the most informative features, you can enhance model performance, reduce overfitting, and improve computational efficiency."
   ]
  },
  {
   "cell_type": "code",
   "execution_count": 3,
   "id": "6ac3f982-8f80-4af7-a282-fb4a456e6820",
   "metadata": {},
   "outputs": [
    {
     "data": {
      "image/png": "[encoded data removed]",
      "text/plain": [
       "<Figure size 1000x600 with 1 Axes>"
      ]
     },
     "metadata": {},
     "output_type": "display_data"
    }
   ],
   "source": [
    "from sklearn.ensemble import RandomForestClassifier\n",
    "from sklearn.datasets import load_iris\n",
    "import pandas as pd \n",
    "import matplotlib.pyplot as plt\n",
    "\n",
    "# Load dataset\n",
    "iris = load_iris()\n",
    "X = iris.data\n",
    "y = iris.target\n",
    "feature_names = iris.feature_names\n",
    "\n",
    "# Train a RandomForestClassifier\n",
    "clf = RandomForestClassifier(n_estimators=100)\n",
    "clf.fit(X, y)\n",
    "\n",
    "# Get feature importances\n",
    "importances = clf.feature_importances_\n",
    "\n",
    "# Create a DataFrame for better visualization\n",
    "importance_df = pd.DataFrame({\n",
    "    'Feature': feature_names,\n",
    "    'Importance': importances\n",
    "}).sort_values(by=\"Importance\", ascending=False)\n",
    "\n",
    "\n",
    "# Plot feature importances\n",
    "plt.figure(figsize=(10 ,6))\n",
    "plt.barh(importance_df['Feature'], importance_df['Importance'])\n",
    "plt.xlabel('Importance')\n",
    "plt.title('Feature Importances')\n",
    "plt.show()"
   ]
  },
  {
   "cell_type": "markdown",
   "id": "c679fd8b-3178-44c1-8279-c4c20a5cad4d",
   "metadata": {},
   "source": [
    "## Method 2: Using SelectFromModel\n",
    "- SelectFromModel is a feature selection method that selects features based on their importance scores from any fitted model. This method can be applied to various classifiers and regression models.\n",
    "\n",
    "- Threshold: The threshold parameter is set to \"mean\", which means that features with importance scores above the mean importance score will be selected. This helps in identifying and keeping only the most significant features.\n",
    "- Fitting the Selector: selector.fit(X, y) fits the selector to the data using the trained RandomForestClassifier (clf). During this process, the selector evaluates the importance scores of each feature.\n",
    "- Getting Selected Feature Indices: selector.get_support(indices=True) returns the indices of the features that are selected based on the threshold. These are the features with importance scores above the mean.\n",
    "- Printing Selected Feature Names: The selected feature indices are mapped to their corresponding names using a list comprehension. The names of the selected features are then printed."
   ]
  },
  {
   "cell_type": "code",
   "execution_count": 7,
   "id": "38fa8af2-bd20-4ed5-b280-6215e6255b71",
   "metadata": {},
   "outputs": [
    {
     "name": "stdout",
     "output_type": "stream",
     "text": [
      "Selected Features: ['petal length (cm)', 'petal width (cm)']\n"
     ]
    }
   ],
   "source": [
    "from sklearn.feature_selection import SelectFromModel\n",
    "\n",
    "# Create a selector with the trained model\n",
    "selector = SelectFromModel(clf, threshold='mean')\n",
    "selector.fit(X, y)\n",
    "\n",
    "# Get the selected feature indices\n",
    "selected_features  = selector.get_support(indices=True)\n",
    "\n",
    "# Print selected feature names\n",
    "selected_feature_names = [feature_names[i] for i in selected_features]\n",
    "print(\"Selected Features:\", selected_feature_names)"
   ]
  },
  {
   "cell_type": "markdown",
   "id": "9c9d06bb-c93a-426b-ba29-d388de896e67",
   "metadata": {},
   "source": [
    "## Method 3: Using Recursive Feature Elimination (RFE)"
   ]
  },
  {
   "cell_type": "code",
   "execution_count": 8,
   "id": "86633241-2bb7-42f9-982b-75c293502c72",
   "metadata": {},
   "outputs": [
    {
     "name": "stdout",
     "output_type": "stream",
     "text": [
      "Selected Features: ['petal length (cm)', 'petal width (cm)']\n"
     ]
    }
   ],
   "source": [
    "from sklearn.feature_selection import RFE\n",
    "\n",
    "# Create an RFE selector with a classifier\n",
    "rfe = RFE(clf, n_features_to_select=2) # You can change the number of features to select\n",
    "rfe.fit(X, y)\n",
    "\n",
    "# Get the selected feature indices\n",
    "selected_features  = rfe.support_\n",
    "\n",
    "# Print selected feature names\n",
    "selected_feature_names = [feature_names[i] for i in range(len(feature_names)) if selected_features[i]]\n",
    "print(\"Selected Features:\", selected_feature_names)"
   ]
  },
  {
   "cell_type": "markdown",
   "id": "1b9a6e5e-e598-4367-88a8-da2cd2628f41",
   "metadata": {},
   "source": [
    "## Method 4: Using L1 Regularization with Logistic Regression\n",
    "- Import Libraries: Import necessary libraries: LogisticRegression from sklearn.linear_model, SelectFromModel from sklearn.feature_selection, and other required libraries.\n",
    "- Load Dataset: Load the Iris dataset and split it into features (X) and target (y).\n",
    "- Train a Logistic Regression Model with L1 Penalty:\n",
    "- Create a LogisticRegression model with an L1 penalty, which encourages sparsity in the model coefficients, and fit it to the data.\n",
    "    - Use solver='liblinear' as it supports L1 regularization.\n",
    "- Get Feature Importances (Coefficients): Extract the absolute values of the coefficients from the trained model to get the feature importances.\n",
    "- Create a DataFrame for Better Visualization: Create a DataFrame to visualize the feature importances, and sort the DataFrame by the coefficient values in descending order.\n",
    "- Print the DataFrame: Print the DataFrame to see the feature importances.\n",
    "- Select Features Based on a Threshold: Use SelectFromModel with the trained model to select features based on a threshold. Here, the threshold is set to \"mean\", meaning that features with coefficients above the mean coefficient value will be selected.\n",
    "- Print Selected Feature Names: Extract and print the names of the selected features using the indices provided by selector.get_support(indices=True)."
   ]
  },
  {
   "cell_type": "code",
   "execution_count": 19,
   "id": "f8388d6b-bfd2-472c-af65-6b33ec2cdf55",
   "metadata": {},
   "outputs": [
    {
     "name": "stdout",
     "output_type": "stream",
     "text": [
      "             Feature  Coefficient\n",
      "2  petal length (cm)     2.826977\n",
      "1   sepal width (cm)     2.518614\n",
      "0  sepal length (cm)     0.000000\n",
      "3   petal width (cm)     0.000000\n",
      "Selected Features: ['sepal width (cm)', 'petal length (cm)', 'petal width (cm)']\n"
     ]
    },
    {
     "name": "stderr",
     "output_type": "stream",
     "text": [
      "C:\\Users\\Gaming\\AppData\\Local\\Programs\\Python\\Python313\\Lib\\site-packages\\sklearn\\linear_model\\_logistic.py:1288: FutureWarning: Using the 'liblinear' solver for multiclass classification is deprecated. An error will be raised in 1.8. Either use another solver which supports the multinomial loss or wrap the estimator in a OneVsRestClassifier to keep applying a one-versus-rest scheme.\n",
      "  warnings.warn(\n",
      "C:\\Users\\Gaming\\AppData\\Local\\Programs\\Python\\Python313\\Lib\\site-packages\\sklearn\\linear_model\\_logistic.py:1288: FutureWarning: Using the 'liblinear' solver for multiclass classification is deprecated. An error will be raised in 1.8. Either use another solver which supports the multinomial loss or wrap the estimator in a OneVsRestClassifier to keep applying a one-versus-rest scheme.\n",
      "  warnings.warn(\n"
     ]
    }
   ],
   "source": [
    "from sklearn.linear_model import LogisticRegression\n",
    "from sklearn.multiclass import OneVsRestClassifier\n",
    "from sklearn.feature_selection import SelectFromModel\n",
    "\n",
    "# Train a Logistic Regression model with L1 penalty\n",
    "logreg = LogisticRegression(penalty=\"l1\", solver=\"liblinear\")\n",
    "logreg.fit(X, y)\n",
    "\n",
    "# Get feature importances (coefficients)\n",
    "importances = abs(logreg.coef_[0])\n",
    "\n",
    "# Create a DataFrame for better visualization\n",
    "importance_df = pd.DataFrame({\n",
    "    'Feature': feature_names,\n",
    "    'Coefficient': importances\n",
    "}).sort_values(by='Coefficient', ascending=False)\n",
    "\n",
    "print(importance_df)\n",
    "\n",
    "# Select features based on a threshold\n",
    "selector = SelectFromModel(logreg, threshold=\"mean\")\n",
    "selector.fit(X, y)\n",
    "selected_features = selector.get_support(indices=True)\n",
    "selected_feature_names = [feature_names[i] for i in selected_features]\n",
    "print(\"Selected Features:\", selected_feature_names)"
   ]
  },
  {
   "cell_type": "code",
   "execution_count": null,
   "id": "674ac03d-083e-4422-9157-d0e228aa04cd",
   "metadata": {},
   "outputs": [],
   "source": []
  }
 ],
 "metadata": {
  "kernelspec": {
   "display_name": "Python 3 (ipykernel)",
   "language": "python",
   "name": "python3"
  },
  "language_info": {
   "codemirror_mode": {
    "name": "ipython",
    "version": 3
   },
   "file_extension": ".py",
   "mimetype": "text/x-python",
   "name": "python",
   "nbconvert_exporter": "python",
   "pygments_lexer": "ipython3",
   "version": "3.13.3"
  }
 },
 "nbformat": 4,
 "nbformat_minor": 5
}
