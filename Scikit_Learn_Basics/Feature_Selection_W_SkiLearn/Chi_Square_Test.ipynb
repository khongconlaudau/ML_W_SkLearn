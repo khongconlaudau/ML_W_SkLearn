{
 "cells": [
  {
   "cell_type": "markdown",
   "id": "ec287531-f1ab-455c-ab78-d8123de8f1d3",
   "metadata": {},
   "source": [
    "# Chi-Square Test\n",
    "- Chi-squared test indicates that there is a relationship between two entities. Handling data often involves testing hypotheses to extract useful information. In categorical analysis, chi-square tests are used to determine whether observed frequencies differ significantly from expected frequencies under a given hypothesis."
   ]
  },
  {
   "cell_type": "markdown",
   "id": "66d94bdc-2386-4f90-b0a5-48e4896653a8",
   "metadata": {},
   "source": [
    "<img src=\"../assets/Chi_Square_Form.png\"/>"
   ]
  },
  {
   "cell_type": "code",
   "execution_count": null,
   "id": "5b7ad509-0c82-4295-907d-296f30204918",
   "metadata": {},
   "outputs": [],
   "source": []
  }
 ],
 "metadata": {
  "kernelspec": {
   "display_name": "Python 3 (ipykernel)",
   "language": "python",
   "name": "python3"
  },
  "language_info": {
   "codemirror_mode": {
    "name": "ipython",
    "version": 3
   },
   "file_extension": ".py",
   "mimetype": "text/x-python",
   "name": "python",
   "nbconvert_exporter": "python",
   "pygments_lexer": "ipython3",
   "version": "3.13.3"
  }
 },
 "nbformat": 4,
 "nbformat_minor": 5
}
